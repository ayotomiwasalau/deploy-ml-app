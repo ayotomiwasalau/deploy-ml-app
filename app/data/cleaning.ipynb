{
 "cells": [
  {
   "cell_type": "code",
   "execution_count": 1,
   "id": "22460826-832b-4065-89fe-061a4a13820c",
   "metadata": {},
   "outputs": [],
   "source": [
    "import pandas as pd"
   ]
  },
  {
   "cell_type": "code",
   "execution_count": 2,
   "id": "904b1434-ac3b-4cde-ac9a-f921d2fb33e0",
   "metadata": {},
   "outputs": [],
   "source": [
    "df = pd.read_csv(\"data/census.csv\")"
   ]
  },
  {
   "cell_type": "code",
   "execution_count": 4,
   "id": "427a2740-07d5-4b1a-90e4-20bbd0ab008e",
   "metadata": {},
   "outputs": [],
   "source": [
    "#remove all leading and trailing whitespaces\n",
    "df = df.apply(lambda x: x.str.strip() if x.dtype == \"object\" else x)\n",
    "df.columns = df.columns.str.strip()"
   ]
  },
  {
   "cell_type": "code",
   "execution_count": 6,
   "id": "318571d3-bdaa-448b-bb6e-dbea0ef73b89",
   "metadata": {},
   "outputs": [],
   "source": [
    "df.to_csv(\"data/cleaned_census.csv\")"
   ]
  },
  {
   "cell_type": "code",
   "execution_count": null,
   "id": "07ac029d-5cb5-4b9e-ac1c-e208822827d9",
   "metadata": {},
   "outputs": [],
   "source": []
  }
 ],
 "metadata": {
  "kernelspec": {
   "display_name": "Python 3 (ipykernel)",
   "language": "python",
   "name": "python3"
  },
  "language_info": {
   "codemirror_mode": {
    "name": "ipython",
    "version": 3
   },
   "file_extension": ".py",
   "mimetype": "text/x-python",
   "name": "python",
   "nbconvert_exporter": "python",
   "pygments_lexer": "ipython3",
   "version": "3.9.19"
  }
 },
 "nbformat": 4,
 "nbformat_minor": 5
}
